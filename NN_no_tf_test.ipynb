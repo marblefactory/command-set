{
 "cells": [
  {
   "cell_type": "markdown",
   "metadata": {},
   "source": [
    "# Proof of Concept Example"
   ]
  },
  {
   "cell_type": "markdown",
   "metadata": {},
   "source": [
    "## Get the up to date data from the form "
   ]
  },
  {
   "cell_type": "code",
   "execution_count": 1,
   "metadata": {
    "collapsed": true
   },
   "outputs": [],
   "source": [
    "import gspread\n",
    "from oauth2client.service_account import ServiceAccountCredentials\n",
    "\n",
    "class DataGetter():\n",
    "    \"\"\"\n",
    "    An object that has cridentials to read Drive documents.\n",
    "    \"\"\"\n",
    "    def __init__(self, credsFile='client_secret.json'):\n",
    "        self.scope  = ['https://spreadsheets.google.com/feeds']\n",
    "        self.creds  = ServiceAccountCredentials.from_json_keyfile_name(credsFile, self.scope)\n",
    "        self.client = gspread.authorize(self.creds)\n",
    "\n",
    "    def basicMovementData(self):\n",
    "        \"\"\"\n",
    "        Gets the training data from the first basic movement form and processes\n",
    "        it into a list of spoken commands and their corresponding labels.\n",
    "        \"\"\"\n",
    "        rows      = self.client.open(\"MovementTrainingData\").sheet1.get_all_records()\n",
    "\n",
    "        responces = []\n",
    "        labels    = []\n",
    "        \n",
    "        \n",
    "        for row in rows:\n",
    "            for i, response in enumerate(list(row.values())[1:]):\n",
    "                labels.append(i)\n",
    "                responces.append(response.lower())\n",
    "                \n",
    "        return (responces, labels)\n",
    "    \n",
    "    def makeLabelForSinario(self, number, numVarients):\n",
    "        label = np.zeros(numVarients)\n",
    "        label[number]  = 1.0\n",
    "        return label\n",
    "        "
   ]
  },
  {
   "cell_type": "markdown",
   "metadata": {},
   "source": [
    "## Process the data\n",
    "\n",
    "The libraries needed for this task are:"
   ]
  },
  {
   "cell_type": "code",
   "execution_count": 139,
   "metadata": {
    "collapsed": true
   },
   "outputs": [],
   "source": [
    "import numpy as np\n",
    "from collections import Counter"
   ]
  },
  {
   "cell_type": "code",
   "execution_count": 140,
   "metadata": {
    "collapsed": true
   },
   "outputs": [],
   "source": [
    "(commands, labels) = DataGetter().basicMovementData()"
   ]
  },
  {
   "cell_type": "markdown",
   "metadata": {},
   "source": [
    "I will use counters to store the count of particular words in different sinarios. "
   ]
  },
  {
   "cell_type": "code",
   "execution_count": 141,
   "metadata": {
    "collapsed": true
   },
   "outputs": [],
   "source": [
    "# total_counts     = Counter()\n",
    "# sinario_counters = [Counter() for _ in range(max(labels)+1)]\n",
    "\n",
    "# # for sinario, responses in enumerate(data):\n",
    "# #     for response in responses:\n",
    "# #         for word in response.split():\n",
    "# #             total_counts[word.lower()] +=1\n",
    "# #             sinario_counters[sinario][word]  +=1\n",
    "\n",
    "# for i, command in enumerate(commands):\n",
    "#     for word in command.split():\n",
    "#         sinario_counters[labels[i]][word] +=1\n",
    "#         total_counts[word]+=1\n",
    "        "
   ]
  },
  {
   "cell_type": "markdown",
   "metadata": {},
   "source": [
    "The most common words in each sinario are:"
   ]
  },
  {
   "cell_type": "code",
   "execution_count": 142,
   "metadata": {
    "collapsed": true
   },
   "outputs": [],
   "source": [
    "# for i, counter in enumerate(sinario_counters):\n",
    "#     print(\"Sinario \" + str(i+1) + \": \"     + str(sinario_counters[i].most_common(5)))"
   ]
  },
  {
   "cell_type": "markdown",
   "metadata": {},
   "source": [
    "### The full vocabulary\n",
    "\n",
    "As the input layer to the NN will be a tensor containinging a count of every word possible, we ned to know the full vocabulary. "
   ]
  },
  {
   "cell_type": "code",
   "execution_count": 143,
   "metadata": {
    "collapsed": true
   },
   "outputs": [],
   "source": [
    "# vocab      = set(total_counts.keys())\n",
    "# vocab_size = len(vocab)"
   ]
  },
  {
   "cell_type": "code",
   "execution_count": 144,
   "metadata": {
    "collapsed": true
   },
   "outputs": [],
   "source": [
    "# input_layer = np.zeros((1, vocab_size))\n",
    "# print(\"The shape of the input layer tensor is: \" + str(input_layer.shape))"
   ]
  },
  {
   "cell_type": "code",
   "execution_count": 145,
   "metadata": {
    "collapsed": true
   },
   "outputs": [],
   "source": [
    "# wordToIndex = {}\n",
    "# for i, word in enumerate(vocab):\n",
    "#     wordToIndex[word] = i"
   ]
  },
  {
   "cell_type": "code",
   "execution_count": 146,
   "metadata": {
    "collapsed": true
   },
   "outputs": [],
   "source": [
    "# def fill_input_layer(response: str):\n",
    "    \n",
    "#     global input_layer\n",
    "#     input_layer *=0\n",
    "    \n",
    "#     words        = response.split()\n",
    "#     word_counter = Counter()\n",
    "    \n",
    "#     for word in words:\n",
    "#         word_counter[word] +=1\n",
    "\n",
    "#     for word, count in word_counter.items():\n",
    "#         input_layer[0][wordToIndex[word]] = count"
   ]
  },
  {
   "cell_type": "code",
   "execution_count": 147,
   "metadata": {
    "collapsed": true
   },
   "outputs": [],
   "source": [
    "# fill_input_layer(commands[0])"
   ]
  },
  {
   "cell_type": "markdown",
   "metadata": {
    "collapsed": true
   },
   "source": [
    "## First Attemept"
   ]
  },
  {
   "cell_type": "code",
   "execution_count": 162,
   "metadata": {
    "collapsed": true
   },
   "outputs": [],
   "source": [
    "import time\n",
    "import sys\n",
    "import numpy as np\n",
    "\n",
    "class SentimentNetwork:\n",
    "    def __init__(self, commands, labels, hidden_nodes = 10, output_nodes = 1,learning_rate = 0.1):\n",
    "        \"\"\"Create a SentimenNetwork with the given settings\n",
    "        Args:\n",
    "            commands(list) - List of commands used for training\n",
    "            labels(list) - List of POSITIVE/NEGATIVE labels associated with the given reviews\n",
    "            hidden_nodes(int) - Number of nodes to create in the hidden layer\n",
    "            learning_rate(float) - Learning rate to use while training\n",
    "        \n",
    "        \"\"\"\n",
    "\n",
    "        np.random.seed(1)\n",
    "\n",
    "        self.pre_process_data(commands, labels)\n",
    "        \n",
    "        self.init_network(len(self.command_vocab), hidden_nodes, output_nodes, learning_rate)\n",
    "\n",
    "    def pre_process_data(self, commands, labels):\n",
    "        \n",
    "        # Pre process the reviews\n",
    "        command_vocab = set()\n",
    "        for command in commands:\n",
    "            for word in command.split():\n",
    "                command_vocab.add(word)\n",
    "        self.command_vocab      = list(command_vocab)\n",
    "        self.command_vocab_size = len(self.command_vocab)\n",
    "        \n",
    "        self.word2index = {}\n",
    "        for i,word in enumerate(self.command_vocab):\n",
    "            self.word2index[word] = i\n",
    "            \n",
    "        label_vocab = set()\n",
    "        for label in labels:\n",
    "            command_vocab.add(label)\n",
    "            \n",
    "        self.label_vocab_size = len(label_vocab)\n",
    "                \n",
    "        self.label_vocab      = [self.label_vec_from_number(l) for l in label_vocab]\n",
    "        \n",
    "\n",
    "    def init_network(self, input_nodes, hidden_nodes, output_nodes, learning_rate):\n",
    "        # Store the number of nodes in input, hidden, and output layers.\n",
    "        self.input_nodes  = input_nodes\n",
    "        self.hidden_nodes = hidden_nodes\n",
    "        self.output_nodes = output_nodes\n",
    "\n",
    "        # Store the learning rate\n",
    "        self.learning_rate = learning_rate\n",
    "\n",
    "        # Initialize weights\n",
    "        \n",
    "        # TODO: initialize self.weights_0_1 as a matrix of zeros. These are the weights between\n",
    "        #       the input layer and the hidden layer.\n",
    "        \n",
    "        # I think that the size of the input nodes by the number of hiden nodes in shape\n",
    "        self.weights_0_1 = np.zeros((self.input_nodes, self.hidden_nodes))\n",
    "        \n",
    "        # TODO: initialize self.weights_1_2 as a matrix of random values. \n",
    "        #       These are the weights between the hidden layer and the output layer.\n",
    "        self.weights_1_2 = self.weights_hidden_to_output = np.random.normal(0.0, self.hidden_nodes**-0.5, \n",
    "                                       (self.hidden_nodes, self.output_nodes))\n",
    "        \n",
    "        # TODO: Create the input layer, a two-dimensional matrix with shape \n",
    "        #       1 x input_nodes, with all values initialized to zero\n",
    "        self.layer_0 = np.zeros((1,input_nodes))\n",
    "    \n",
    "    def label_vec_from_number(self, number ):\n",
    "        label = np.zeros(19) ## TODO\n",
    "        label[number] = 1\n",
    "        return label\n",
    "        \n",
    "    \n",
    "        \n",
    "    def update_input_layer(self,command):\n",
    "        \"\"\"\n",
    "        Args:\n",
    "            review(string) - the string of the review\n",
    "        Returns:\n",
    "            None\n",
    "        \"\"\"\n",
    "        # clear out previous state by resetting the layer to be all 0s\n",
    "        self.layer_0 *= 0\n",
    "\n",
    "        for word in command.split(' '):\n",
    "            if (word in self.word2index.keys()):\n",
    "                self.layer_0[0][self.word2index[word]] +=1\n",
    "            \n",
    "                \n",
    "    def get_target_for_label(self,label):\n",
    "        \n",
    "        return self.label_vec_from_number(label)\n",
    "    \n",
    "        \n",
    "    def sigmoid(self,x):\n",
    "        return 1.0/(1+(np.e**(-x)))\n",
    "    \n",
    "    def sigmoid_output_2_derivative(self,output):\n",
    "        return output * (1 - output)\n",
    "\n",
    "    def train(self, training_commands, training_labels, epochs=5):\n",
    "        assert(len(training_commands) == len(training_labels))\n",
    "        \n",
    "        start = time.time()\n",
    "        \n",
    "        \n",
    "        for _ in range(epochs):\n",
    "        \n",
    "            correct_so_far = 0\n",
    "\n",
    "            # loop through all the given reviews and run a forward and backward pass,\n",
    "            # updating weights for every item\n",
    "            for i in range(len(training_commands)):\n",
    "\n",
    "                # TODO: Get the next review and its correct label\n",
    "                command   = training_commands[i]\n",
    "                target    = self.get_target_for_label(training_labels[i])\n",
    "\n",
    "                # -- Forward Pass -- #\n",
    "\n",
    "                self.update_input_layer(command)\n",
    "\n",
    "                layer_1_input  = np.matmul(self.layer_0, self.weights_0_1)\n",
    "                layer_1_output = layer_1_input  # Brief said to not use an activation function on this layer\n",
    "\n",
    "                layer_2_input   = np.matmul(layer_1_output, self.weights_1_2)\n",
    "                layer_2_output  = self.sigmoid(layer_2_input)\n",
    "\n",
    "                # Output error\n",
    "                layer_2_error = target - layer_2_output \n",
    "                layer_2_delta = layer_2_error * self.sigmoid_output_2_derivative(layer_2_output)\n",
    "\n",
    "\n",
    "                # Backpropagated error\n",
    "                layer_1_error = layer_2_delta.dot(self.weights_1_2.T) # errors propagated to the hidden layer\n",
    "                layer_1_delta = layer_1_error # hidden layer gradients - no nonlinearity so it's the same as the error\n",
    "\n",
    "                # Update the weights\n",
    "                self.weights_1_2 += layer_1_output.T.dot(layer_2_delta) * self.learning_rate # update hidden-to-output weights with gradient descent step\n",
    "                self.weights_0_1 += self.layer_0.T.dot(layer_1_delta) * self.learning_rate # update input-to-hidden weights with gradient descent step\n",
    "\n",
    "\n",
    "                # Is the output correct?\n",
    "                if (all(error < 0.5) for error in layer_2_error):\n",
    "                    correct_so_far +=1\n",
    "\n",
    "\n",
    "\n",
    "\n",
    "                elapsed_time = float(time.time() - start)\n",
    "                commands_per_second = i / elapsed_time if elapsed_time > 0 else 0\n",
    "\n",
    "                sys.stdout.write(\"\\rProgress:\" + str(100 * i/float(len(training_commands)))[:4] \\\n",
    "                                 + \"% Speed(commands/sec):\" + str(commands_per_second)[0:5] \\\n",
    "                                 + \" #Correct:\" + str(correct_so_far) + \" #Trained:\" + str(i+1) \\\n",
    "                                 + \" Training Accuracy:\" + str(correct_so_far * 100 / float(i+1))[:4] + \"%\")\n",
    "                if(i % 2500 == 0):\n",
    "                    print(\"\")\n",
    "\n",
    "    def test(self, testing_commands, testing_labels):\n",
    "        \"\"\"\n",
    "        Attempts to predict the labels for the given testing_reviews,\n",
    "        and uses the test_labels to calculate the accuracy of those predictions.\n",
    "        \"\"\"\n",
    "        correct = 0\n",
    "        start = time.time()\n",
    "\n",
    "        # Loop through each of the given reviews and call run to predict\n",
    "        # its label. \n",
    "        for i in range(len(testing_commands)):\n",
    "            pred = self.run(testing_commands[i])\n",
    "#             print(pred[0])\n",
    "#             print(self.label_vec_from_number(testing_labels[i]))\n",
    "\n",
    "            \n",
    "            if(np.array_equal(pred[0], self.label_vec_from_number(testing_labels[i]))):\n",
    "                correct += 1\n",
    "                print(testing_labels[i])\n",
    "            \n",
    "            # For debug purposes, print out our prediction accuracy and speed \n",
    "            # throughout the prediction process. \n",
    "\n",
    "            elapsed_time = float(time.time() - start)\n",
    "            commands_per_second = i / elapsed_time if elapsed_time > 0 else 0\n",
    "            \n",
    "            sys.stdout.write(\"\\rProgress:\" + str(100 * i/float(len(testing_commands)))[:4] \\\n",
    "                             + \"% Speed(commands/sec):\" + str(commands_per_second)[0:5] \\\n",
    "                             + \" #Correct:\" + str(correct) + \" #Tested:\" + str(i+1) \\\n",
    "                             + \" Testing Accuracy:\" + str(correct * 100 / float(i+1))[:4] + \"%\")\n",
    "    \n",
    "    def run(self, command):\n",
    "        \"\"\"\n",
    "        Returns a POSITIVE or NEGATIVE prediction for the given command.\n",
    "        \"\"\"               \n",
    "        self.update_input_layer(command.lower())\n",
    "            \n",
    "        hidden_input  = np.matmul(self.layer_0, self.weights_0_1)\n",
    "        hidden_output = hidden_input  # Brief said to not use an activation function on this layer\n",
    "           \n",
    "        final_input   = np.matmul(hidden_output, self.weights_1_2)\n",
    "        final_output  = self.sigmoid(final_input)\n",
    "        \n",
    "\n",
    "        \n",
    "        \n",
    "        # This is  stupid way of rounding\n",
    "        for i, val in enumerate(final_output[0]):\n",
    "            if val < 0.5:\n",
    "                final_output[0][i] = 0\n",
    "            else:\n",
    "                final_output[0][i] = 1\n",
    "\n",
    "#             if (val - int(val) >= 0.5):\n",
    "#                 final_output[0][i] =  int (val) + 1\n",
    "#             else:\n",
    "#                 final_output[0][i] =  int (val)\n",
    "            \n",
    "        return final_output"
   ]
  },
  {
   "cell_type": "code",
   "execution_count": 175,
   "metadata": {
    "collapsed": true
   },
   "outputs": [],
   "source": [
    "mlp = SentimentNetwork(commands[:-50],labels[:-50],hidden_nodes=100,output_nodes=19, learning_rate=0.3)"
   ]
  },
  {
   "cell_type": "code",
   "execution_count": 176,
   "metadata": {},
   "outputs": [
    {
     "name": "stdout",
     "output_type": "stream",
     "text": [
      "Progress:0.0% Speed(commands/sec):0.0 #Correct:1 #Trained:1 Training Accuracy:100.%\n",
      "Progress:0.0% Speed(commands/sec):0.0 #Correct:1 #Trained:1 Training Accuracy:100.%y:100.%\n",
      "Progress:31.2% Speed(commands/sec):291.7 #Correct:300 #Trained:300 Training Accuracy:100.%Progress:0.0% Speed(commands/sec):0.0 #Correct:1 #Trained:1 Training Accuracy:100.%y:100.%\n",
      "Progress:0.0% Speed(commands/sec):0.0 #Correct:1 #Trained:1 Training Accuracy:100.%y:100.%\n",
      "Progress:0.0% Speed(commands/sec):0.0 #Correct:1 #Trained:1 Training Accuracy:100.%y:100.%\n",
      "Progress:99.8% Speed(commands/sec):317.9 #Correct:957 #Trained:957 Training Accuracy:100.%"
     ]
    }
   ],
   "source": [
    "mlp.train(commands[:-50],labels[:-50])"
   ]
  },
  {
   "cell_type": "code",
   "execution_count": 177,
   "metadata": {},
   "outputs": [
    {
     "name": "stdout",
     "output_type": "stream",
     "text": [
      "\r",
      "Progress:0.0% Speed(commands/sec):0.0 #Correct:0 #Tested:1 Testing Accuracy:0.0%\r",
      "Progress:2.0% Speed(commands/sec):124.8 #Correct:0 #Tested:2 Testing Accuracy:0.0%\r",
      "Progress:4.0% Speed(commands/sec):242.0 #Correct:0 #Tested:3 Testing Accuracy:0.0%\r",
      "Progress:6.0% Speed(commands/sec):354.8 #Correct:0 #Tested:4 Testing Accuracy:0.0%\r",
      "Progress:8.0% Speed(commands/sec):462.9 #Correct:0 #Tested:5 Testing Accuracy:0.0%\r",
      "Progress:10.0% Speed(commands/sec):564.5 #Correct:0 #Tested:6 Testing Accuracy:0.0%\r",
      "Progress:12.0% Speed(commands/sec):661.2 #Correct:0 #Tested:7 Testing Accuracy:0.0%\r",
      "Progress:14.0% Speed(commands/sec):751.1 #Correct:0 #Tested:8 Testing Accuracy:0.0%\r",
      "Progress:16.0% Speed(commands/sec):838.9 #Correct:0 #Tested:9 Testing Accuracy:0.0%\r",
      "Progress:18.0% Speed(commands/sec):916.8 #Correct:0 #Tested:10 Testing Accuracy:0.0%\r",
      "Progress:20.0% Speed(commands/sec):998.3 #Correct:0 #Tested:11 Testing Accuracy:0.0%\r",
      "Progress:22.0% Speed(commands/sec):1071. #Correct:0 #Tested:12 Testing Accuracy:0.0%\r",
      "Progress:24.0% Speed(commands/sec):1143. #Correct:0 #Tested:13 Testing Accuracy:0.0%\r",
      "Progress:26.0% Speed(commands/sec):1208. #Correct:0 #Tested:14 Testing Accuracy:0.0%\r",
      "Progress:28.0% Speed(commands/sec):1275. #Correct:0 #Tested:15 Testing Accuracy:0.0%3\n",
      "\r",
      "Progress:30.0% Speed(commands/sec):1314. #Correct:1 #Tested:16 Testing Accuracy:6.25%\r",
      "Progress:32.0% Speed(commands/sec):1376. #Correct:1 #Tested:17 Testing Accuracy:5.88%\r",
      "Progress:34.0% Speed(commands/sec):1426. #Correct:1 #Tested:18 Testing Accuracy:5.55%\r",
      "Progress:36.0% Speed(commands/sec):1435. #Correct:1 #Tested:19 Testing Accuracy:5.26%\r",
      "Progress:38.0% Speed(commands/sec):1442. #Correct:1 #Tested:20 Testing Accuracy:5.0%\r",
      "Progress:40.0% Speed(commands/sec):1411. #Correct:1 #Tested:21 Testing Accuracy:4.76%\r",
      "Progress:42.0% Speed(commands/sec):1423. #Correct:1 #Tested:22 Testing Accuracy:4.54%\r",
      "Progress:44.0% Speed(commands/sec):1462. #Correct:1 #Tested:23 Testing Accuracy:4.34%11\n",
      "\r",
      "Progress:46.0% Speed(commands/sec):1488. #Correct:2 #Tested:24 Testing Accuracy:8.33%\r",
      "Progress:48.0% Speed(commands/sec):1515. #Correct:2 #Tested:25 Testing Accuracy:8.0%\r",
      "Progress:50.0% Speed(commands/sec):1562. #Correct:2 #Tested:26 Testing Accuracy:7.69%\r",
      "Progress:52.0% Speed(commands/sec):1610. #Correct:2 #Tested:27 Testing Accuracy:7.40%\r",
      "Progress:54.0% Speed(commands/sec):1656. #Correct:2 #Tested:28 Testing Accuracy:7.14%16\n",
      "\r",
      "Progress:56.0% Speed(commands/sec):1691. #Correct:3 #Tested:29 Testing Accuracy:10.3%17\n",
      "\r",
      "Progress:58.0% Speed(commands/sec):1723. #Correct:4 #Tested:30 Testing Accuracy:13.3%\r",
      "Progress:60.0% Speed(commands/sec):1765. #Correct:4 #Tested:31 Testing Accuracy:12.9%\r",
      "Progress:62.0% Speed(commands/sec):1807. #Correct:4 #Tested:32 Testing Accuracy:12.5%\r",
      "Progress:64.0% Speed(commands/sec):1846. #Correct:4 #Tested:33 Testing Accuracy:12.1%\r",
      "Progress:66.0% Speed(commands/sec):1887. #Correct:4 #Tested:34 Testing Accuracy:11.7%\r",
      "Progress:68.0% Speed(commands/sec):1928. #Correct:4 #Tested:35 Testing Accuracy:11.4%\r",
      "Progress:70.0% Speed(commands/sec):1941. #Correct:4 #Tested:36 Testing Accuracy:11.1%\r",
      "Progress:72.0% Speed(commands/sec):1955. #Correct:4 #Tested:37 Testing Accuracy:10.8%6\n",
      "\r",
      "Progress:74.0% Speed(commands/sec):1957. #Correct:5 #Tested:38 Testing Accuracy:13.1%\r",
      "Progress:76.0% Speed(commands/sec):1986. #Correct:5 #Tested:39 Testing Accuracy:12.8%\r",
      "Progress:78.0% Speed(commands/sec):2006. #Correct:5 #Tested:40 Testing Accuracy:12.5%\r",
      "Progress:80.0% Speed(commands/sec):2028. #Correct:5 #Tested:41 Testing Accuracy:12.1%\r",
      "Progress:82.0% Speed(commands/sec):2045. #Correct:5 #Tested:42 Testing Accuracy:11.9%11\n",
      "\r",
      "Progress:84.0% Speed(commands/sec):2047. #Correct:6 #Tested:43 Testing Accuracy:13.9%\r",
      "Progress:86.0% Speed(commands/sec):2070. #Correct:6 #Tested:44 Testing Accuracy:13.6%\r",
      "Progress:88.0% Speed(commands/sec):2076. #Correct:6 #Tested:45 Testing Accuracy:13.3%\r",
      "Progress:90.0% Speed(commands/sec):2050. #Correct:6 #Tested:46 Testing Accuracy:13.0%\r",
      "Progress:92.0% Speed(commands/sec):1774. #Correct:6 #Tested:47 Testing Accuracy:12.7%\r",
      "Progress:94.0% Speed(commands/sec):1600. #Correct:6 #Tested:48 Testing Accuracy:12.5%\r",
      "Progress:96.0% Speed(commands/sec):1601. #Correct:6 #Tested:49 Testing Accuracy:12.2%\r",
      "Progress:98.0% Speed(commands/sec):1611. #Correct:6 #Tested:50 Testing Accuracy:12.0%"
     ]
    }
   ],
   "source": [
    "mlp.test(commands[-50:],labels[-50:])"
   ]
  },
  {
   "cell_type": "code",
   "execution_count": null,
   "metadata": {
    "collapsed": true
   },
   "outputs": [],
   "source": []
  }
 ],
 "metadata": {
  "kernelspec": {
   "display_name": "Python 3",
   "language": "python",
   "name": "python3"
  },
  "language_info": {
   "codemirror_mode": {
    "name": "ipython",
    "version": 3
   },
   "file_extension": ".py",
   "mimetype": "text/x-python",
   "name": "python",
   "nbconvert_exporter": "python",
   "pygments_lexer": "ipython3",
   "version": "3.6.2"
  }
 },
 "nbformat": 4,
 "nbformat_minor": 2
}
